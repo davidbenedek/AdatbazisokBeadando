{
    "metadata": {
        "kernelspec": {
            "name": "SQL",
            "display_name": "SQL",
            "language": "sql"
        },
        "language_info": {
            "name": "sql",
            "version": ""
        }
    },
    "nbformat_minor": 2,
    "nbformat": 4,
    "cells": [
        {
            "cell_type": "code",
            "source": [
                "-- 1. Azoknak a tanulóknak a neve, akik sikeres gyakorlati vizsgát tettek:\r\n",
                "SELECT t.nev AS Tanuló\r\n",
                "FROM TANULÓ t\r\n",
                "JOIN VIZSGA v ON t.tanulo_id = v.tanulo_id\r\n",
                "WHERE v.tipus = 'Gyakorlat' AND v.sikeres = TRUE;"
            ],
            "metadata": {
                "azdata_cell_guid": "22f27f7d-1cf8-451f-b083-d1c05405b82e",
                "language": "sql"
            },
            "outputs": [],
            "execution_count": null
        },
        {
            "cell_type": "code",
            "source": [
                "-- 2. Azok az oktatók neve és az általuk tartott órák száma a megadott időszakban (pl. 2025 április):\r\n",
                "SELECT o.nev AS Oktató, COUNT(ora.ora_id) AS Órák_száma\r\n",
                "FROM OKTATÓ o\r\n",
                "LEFT JOIN ÓRA ora ON o.oktato_id = ora.oktato_id\r\n",
                "WHERE ora.datum BETWEEN '2025-04-01' AND '2025-04-30'\r\n",
                "GROUP BY o.nev;"
            ],
            "metadata": {
                "azdata_cell_guid": "1fef8d38-c653-4558-aa6b-3539df08e725",
                "language": "sql"
            },
            "outputs": [],
            "execution_count": null
        },
        {
            "cell_type": "code",
            "source": [
                "-- 3. Azoknak a tanulóknak a neve és e-mail címe, akik még nem tettek elméleti vizsgát:\r\n",
                "SELECT t.nev AS Tanuló, t.email AS Email\r\n",
                "FROM TANULÓ t\r\n",
                "LEFT JOIN VIZSGA v ON t.tanulo_id = v.tanulo_id AND v.tipus = 'Elmélet'\r\n",
                "WHERE v.vizsga_id IS NULL;"
            ],
            "metadata": {
                "azdata_cell_guid": "5e2cee7f-c8fa-457e-b592-6ed4d02aa211",
                "language": "sql"
            },
            "outputs": [],
            "execution_count": null
        },
        {
            "cell_type": "code",
            "source": [
                "-- 4. Melyik oktató tartotta a legtöbb órát 2025 áprilisában, és hány órát tartott?\r\n",
                "SELECT o.nev AS Oktató, COUNT(ora.ora_id) AS Tartott_órák_száma\r\n",
                "FROM OKTATÓ o JOIN ÓRA ora ON o.oktato_id = ora.oktato_id\r\n",
                "WHERE ora.datum BETWEEN '2025-04-01' AND '2025-04-30'\r\n",
                "GROUP BY o.nev\r\n",
                "ORDER BY Tartott_órák_száma DESC LIMIT 1;"
            ],
            "metadata": {
                "azdata_cell_guid": "cc553ef8-ddf5-4882-9ab7-c2e368235789",
                "language": "sql"
            },
            "outputs": [],
            "execution_count": null
        },
        {
            "cell_type": "code",
            "source": [
                "-- 5. Melyik tanuló vett részt a legtöbb vezetési órán összesen? Jelenítse meg a nevét és az órák számát.\r\n",
                "SELECT t.nev AS Tanuló, COUNT(ora.ora_id) AS Összes_óra_száma\r\n",
                "FROM TANULÓ t\r\n",
                "JOIN ÓRA ora ON t.tanulo_id = ora.tanulo_id\r\n",
                "GROUP BY t.nev\r\n",
                "ORDER BY Összes_óra_száma DESC LIMIT 1;"
            ],
            "metadata": {
                "azdata_cell_guid": "a79e172a-35db-4f48-b1aa-24236d62c660",
                "language": "sql"
            },
            "outputs": [],
            "execution_count": null
        },
        {
            "cell_type": "code",
            "source": [
                "-- 6. Melyik tanulók iratkoztak be a \"B kategória\" tanfolyamra 2025 áprilisában? Jelenítse meg a nevüket és a beiratkozás dátumát.\r\n",
                "SELECT t.nev AS Tanuló, tt.beiratkozas_datum AS Beiratkozás_dátuma\r\n",
                "FROM TANULÓ t\r\n",
                "JOIN TANULÓ_TANFOLYAM tt ON t.tanulo_id = tt.tanulo_id\r\n",
                "JOIN TANFOLYAM tf ON tt.tanfolyam_id = tf.tanfolyam_id\r\n",
                "WHERE tf.nev = 'B kategória' AND tt.beiratkozas_datum BETWEEN '2025-04-01' AND '2025-04-30';"
            ],
            "metadata": {
                "azdata_cell_guid": "c11f13ab-6312-491e-b5bc-b0eb19369052",
                "language": "sql"
            },
            "outputs": [],
            "execution_count": null
        }
    ]
}